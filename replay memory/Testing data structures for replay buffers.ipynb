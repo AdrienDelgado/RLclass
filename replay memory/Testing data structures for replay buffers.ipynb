{
 "cells": [
  {
   "cell_type": "markdown",
   "metadata": {},
   "source": [
    "# Notes\n",
    "\n",
    "- What we need for a good replay buffer: fixed-size, FIFO behavior, O(1) insertion at the end, O(1) sampling. Limited memory footprint.\n",
    "- [deque](https://docs.python.org/3/library/collections.html#collections.deque) has O(1) insertion time at the end, but O(n) access time (which made me doubt its ability to make a good replay buffer and try an np.array-based solution)\n",
    "- Can anybody explain the difference between the times measured by tqdm and timeit?\n",
    "- When we draw a mini-batch for DQN, it would be best to receive (separately) an array of states only, an array of actions, an array of rewards, an array of next states and a last array of \"done\", that we can pass these to the Q-network. What's the best way of doing that? Store them separately?"
   ]
  },
  {
   "cell_type": "markdown",
   "metadata": {},
   "source": [
    "# Setting the frame"
   ]
  },
  {
   "cell_type": "code",
   "execution_count": 1,
   "metadata": {},
   "outputs": [],
   "source": [
    "import gym\n",
    "from gym import logger\n",
    "import numpy as np\n",
    "logger.set_level(gym.logger.DISABLED)\n",
    "import torch"
   ]
  },
  {
   "cell_type": "code",
   "execution_count": 2,
   "metadata": {},
   "outputs": [],
   "source": [
    "cartpole = gym.make('CartPole-v1')"
   ]
  },
  {
   "cell_type": "code",
   "execution_count": 3,
   "metadata": {},
   "outputs": [],
   "source": [
    "state = cartpole.reset()\n",
    "action = cartpole.action_space.sample()\n",
    "next_state, reward, done, _ = cartpole.step(action)"
   ]
  },
  {
   "cell_type": "code",
   "execution_count": 4,
   "metadata": {},
   "outputs": [],
   "source": [
    "replay_buffer_size = int(1e6)\n",
    "nb_samples = int(2e6)\n",
    "nb_batches = int(1e4)\n",
    "batch_size = 50"
   ]
  },
  {
   "cell_type": "markdown",
   "metadata": {},
   "source": [
    "# Testing functions"
   ]
  },
  {
   "cell_type": "code",
   "execution_count": 5,
   "metadata": {},
   "outputs": [],
   "source": [
    "from tqdm import trange\n",
    "\n",
    "def test_insertion_tqdm(buffer, nb_samples):\n",
    "    state = cartpole.reset()\n",
    "    for _ in trange(nb_samples):\n",
    "        buffer.append(state, action, reward, next_state, done)\n",
    "\n",
    "def test_sampling_tqdm(buffer, nb_batches):\n",
    "    for _ in trange(nb_batches):\n",
    "        buffer.sample(batch_size)"
   ]
  },
  {
   "cell_type": "code",
   "execution_count": 6,
   "metadata": {},
   "outputs": [],
   "source": [
    "import timeit\n",
    "import gc\n",
    "\n",
    "def test_insertion_timeit(buffer, nb_samples):\n",
    "    print(\"Insertion of\", nb_samples, \"samples:\", \n",
    "      timeit.timeit('memory.append(state,action,reward,next_state,done)', \n",
    "                    globals=globals(), \n",
    "                    setup='gc.enable()', \n",
    "                    number=nb_samples))\n",
    "\n",
    "def test_sampling_timeit(buffer, nb_batches):\n",
    "    print(\"Sampling of\", nb_batches, \"batches:\",\n",
    "          timeit.timeit('memory.sample(batch_size)', \n",
    "                        globals=globals(), \n",
    "                        setup='gc.enable()', \n",
    "                        number=nb_batches))"
   ]
  },
  {
   "cell_type": "markdown",
   "metadata": {},
   "source": [
    "# Replay buffer classes"
   ]
  },
  {
   "cell_type": "code",
   "execution_count": 7,
   "metadata": {},
   "outputs": [],
   "source": [
    "from collections import deque, namedtuple\n",
    "Transition = namedtuple('Transition', \n",
    "                        ('state', 'action', 'reward', 'next_state', 'done'))\n",
    "\n",
    "# But for the sake of the exercise, we will wrap this in a dedicated class.\n",
    "\n",
    "import random\n",
    "    \n",
    "class ReplayBuffer1(object):\n",
    "    def __init__(self, capacity):\n",
    "        self.memory = deque(maxlen=capacity)\n",
    "    def append(self, *args):\n",
    "        self.memory.append(Transition(*args))\n",
    "    def sample(self, batch_size):\n",
    "        return random.sample(self.memory, batch_size)\n",
    "    def __len__(self):\n",
    "        return len(self.memory)\n",
    "    def capacity(self):\n",
    "        return self.memory.maxlen\n",
    "    \n",
    "class ReplayBuffer2(object):\n",
    "    def __init__(self, capacity):\n",
    "        self.memory = deque(maxlen=capacity)\n",
    "    def append(self, state, action, reward, next_state, done):\n",
    "        self.memory.append((state, action, reward, next_state, done))\n",
    "    def sample(self, batch_size):\n",
    "        return random.sample(self.memory, batch_size)\n",
    "    def __len__(self):\n",
    "        return len(self.memory)\n",
    "    def capacity(self):\n",
    "        return self.memory.maxlen\n",
    "    \n",
    "class ReplayBuffer3(deque):\n",
    "    def __init__(self, capacity):\n",
    "        super().__init__(maxlen=capacity)\n",
    "    def append(self, state, action, reward, next_state, done):\n",
    "        super().append((state, action, reward, next_state, done))\n",
    "    def sample(self, batch_size):\n",
    "        return random.sample(self, batch_size)\n",
    "    \n",
    "class ReplayBuffer4(deque):\n",
    "    def __init__(self, capacity):\n",
    "        super().__init__(maxlen=capacity)\n",
    "    def append(self, state, action, reward, next_state, done):\n",
    "        super().append(Transition(state, action, reward, next_state, done))\n",
    "    def sample(self, batch_size):\n",
    "        return random.sample(self, batch_size)\n",
    "\n",
    "class ReplayBuffer5(object):\n",
    "    def __init__(self, capacity):\n",
    "        self.capacity = capacity # capacity of the buffer\n",
    "        self.data = np.empty(capacity, dtype=Transition)\n",
    "        self.index = 0 # index of the next cell to be filled\n",
    "        self.size = 0 # number of elements in the buffer\n",
    "        \n",
    "    def append(self, *args):\n",
    "        self.data[self.index] = Transition(*args)\n",
    "        self.index = (self.index + 1) % self.capacity\n",
    "        if self.size < self.capacity:\n",
    "            self.size+=1\n",
    "        \n",
    "    def sample(self, batch_size):\n",
    "        #indices = np.random.choice(self.size, size=batch_size, replace=False)\n",
    "        #return self.memory[indices]\n",
    "        return np.random.choice(self.data[:self.size], size=batch_size, replace=False)\n",
    "    \n",
    "    def __len__(self):\n",
    "        return self.size\n",
    "    \n",
    "class ReplayBuffer6(object):\n",
    "    def __init__(self, capacity):\n",
    "        self.data = deque(maxlen=capacity)\n",
    "    def append(self, state, action, reward, next_state, done):\n",
    "        self.data.append((state, action, reward, next_state, done))\n",
    "    def sample(self, batch_size):\n",
    "        batch = random.sample(self.data, batch_size)\n",
    "        return list(map(np.array, list(zip(*batch))))\n",
    "    def __len__(self):\n",
    "        return len(self.data)\n",
    "    def capacity(self):\n",
    "        return self.data.maxlen\n",
    "\n",
    "class ReplayBuffer7(deque):\n",
    "    def __init__(self, capacity):\n",
    "        super().__init__(maxlen=capacity)\n",
    "    def append(self, state, action, reward, next_state, done):\n",
    "        super().append(Transition(state, action, reward, next_state, done))\n",
    "    def sample(self, batch_size):\n",
    "        batch = random.sample(self, batch_size)\n",
    "        return list(map(np.array, list(zip(*batch))))\n",
    "    def capacity(self):\n",
    "        return self.maxlen\n",
    "    \n",
    "class ReplayBuffer8(object):\n",
    "    def __init__(self, capacity):\n",
    "        self.data = deque(maxlen=capacity)\n",
    "    def append(self, state, action, reward, next_state, done):\n",
    "        self.data.append((state, action, reward, next_state, done))\n",
    "    def sample(self, batch_size):\n",
    "        batch = random.sample(self.data, batch_size)\n",
    "        return list(map(torch.Tensor, list(zip(*batch))))\n",
    "    def __len__(self):\n",
    "        return len(self.data)\n",
    "    def capacity(self):\n",
    "        return self.data.maxlen"
   ]
  },
  {
   "cell_type": "markdown",
   "metadata": {},
   "source": [
    "# Pseudo-unit testing"
   ]
  },
  {
   "cell_type": "code",
   "execution_count": 8,
   "metadata": {},
   "outputs": [
    {
     "name": "stdout",
     "output_type": "stream",
     "text": [
      "deque([], maxlen=1000000)\n",
      "0\n",
      "deque([Transition(state=array([ 0.02144878, -0.04828558,  0.00701626, -0.00515531]), action=0, reward=1.0, next_state=array([ 0.02048307, -0.24350745,  0.00691316,  0.28973305]), done=False)], maxlen=1000000)\n",
      "1\n"
     ]
    }
   ],
   "source": [
    "# init\n",
    "memory = ReplayBuffer4(replay_buffer_size)\n",
    "print(memory)\n",
    "# len\n",
    "print(len(memory))\n",
    "# append\n",
    "memory.append(state, action, reward, next_state, done)\n",
    "print(memory)\n",
    "print(len(memory))"
   ]
  },
  {
   "cell_type": "code",
   "execution_count": 9,
   "metadata": {},
   "outputs": [
    {
     "name": "stdout",
     "output_type": "stream",
     "text": [
      "[None None None ... None None None]\n",
      "0\n",
      "[Transition(state=array([ 0.02144878, -0.04828558,  0.00701626, -0.00515531]), action=0, reward=1.0, next_state=array([ 0.02048307, -0.24350745,  0.00691316,  0.28973305]), done=False)\n",
      " None None ... None None None]\n",
      "1\n"
     ]
    }
   ],
   "source": [
    "# init\n",
    "memory = ReplayBuffer5(replay_buffer_size)\n",
    "print(memory.data)\n",
    "# len\n",
    "print(len(memory))\n",
    "# append\n",
    "memory.append(state, action, reward, next_state, done)\n",
    "print(memory.data)\n",
    "print(len(memory))"
   ]
  },
  {
   "cell_type": "markdown",
   "metadata": {},
   "source": [
    "# Time testing"
   ]
  },
  {
   "cell_type": "code",
   "execution_count": 10,
   "metadata": {},
   "outputs": [
    {
     "name": "stderr",
     "output_type": "stream",
     "text": [
      "100%|██████████| 2000000/2000000 [00:03<00:00, 605006.67it/s]\n",
      "100%|██████████| 10000/10000 [00:16<00:00, 614.19it/s]\n"
     ]
    },
    {
     "name": "stdout",
     "output_type": "stream",
     "text": [
      "Insertion of 2000000 samples: 1.6907336999938707\n",
      "Insertion of 10000 samples: 0.008727542997803539\n"
     ]
    }
   ],
   "source": [
    "memory = ReplayBuffer1(replay_buffer_size)\n",
    "test_insertion_tqdm(memory, nb_samples)\n",
    "test_sampling_tqdm(memory, nb_batches)\n",
    "test_insertion_timeit(memory, nb_samples)\n",
    "test_insertion_timeit(memory, nb_batches)"
   ]
  },
  {
   "cell_type": "code",
   "execution_count": 11,
   "metadata": {},
   "outputs": [
    {
     "name": "stderr",
     "output_type": "stream",
     "text": [
      "100%|██████████| 2000000/2000000 [00:01<00:00, 1238542.58it/s]\n",
      "100%|██████████| 10000/10000 [00:16<00:00, 614.91it/s]\n"
     ]
    },
    {
     "name": "stdout",
     "output_type": "stream",
     "text": [
      "Insertion of 2000000 samples: 0.7769634659998701\n",
      "Insertion of 10000 samples: 0.003943076000723522\n"
     ]
    }
   ],
   "source": [
    "memory = ReplayBuffer2(replay_buffer_size)\n",
    "test_insertion_tqdm(memory, nb_samples)\n",
    "test_sampling_tqdm(memory, nb_batches)\n",
    "test_insertion_timeit(memory, nb_samples)\n",
    "test_insertion_timeit(memory, nb_batches)"
   ]
  },
  {
   "cell_type": "code",
   "execution_count": 12,
   "metadata": {},
   "outputs": [
    {
     "name": "stderr",
     "output_type": "stream",
     "text": [
      "100%|██████████| 2000000/2000000 [00:01<00:00, 1108719.02it/s]\n",
      "100%|██████████| 10000/10000 [00:17<00:00, 585.24it/s]\n"
     ]
    },
    {
     "name": "stdout",
     "output_type": "stream",
     "text": [
      "Insertion of 2000000 samples: 1.1208535139958258\n",
      "Insertion of 10000 samples: 0.00567337100073928\n"
     ]
    }
   ],
   "source": [
    "memory = ReplayBuffer3(replay_buffer_size)\n",
    "test_insertion_tqdm(memory, nb_samples)\n",
    "test_sampling_tqdm(memory, nb_batches)\n",
    "test_insertion_timeit(memory, nb_samples)\n",
    "test_insertion_timeit(memory, nb_batches)"
   ]
  },
  {
   "cell_type": "code",
   "execution_count": 13,
   "metadata": {
    "scrolled": true
   },
   "outputs": [
    {
     "name": "stderr",
     "output_type": "stream",
     "text": [
      "100%|██████████| 2000000/2000000 [00:03<00:00, 525110.95it/s]\n",
      "100%|██████████| 10000/10000 [00:17<00:00, 560.10it/s]\n"
     ]
    },
    {
     "name": "stdout",
     "output_type": "stream",
     "text": [
      "Insertion of 2000000 samples: 2.6863301120029064\n",
      "Insertion of 10000 samples: 0.018793491006363183\n"
     ]
    }
   ],
   "source": [
    "memory = ReplayBuffer4(replay_buffer_size)\n",
    "test_insertion_tqdm(memory, nb_samples)\n",
    "test_sampling_tqdm(memory, nb_batches)\n",
    "test_insertion_timeit(memory, nb_samples)\n",
    "test_insertion_timeit(memory, nb_batches)"
   ]
  },
  {
   "cell_type": "code",
   "execution_count": 14,
   "metadata": {},
   "outputs": [
    {
     "name": "stderr",
     "output_type": "stream",
     "text": [
      "100%|██████████| 2000000/2000000 [00:05<00:00, 340974.99it/s]\n",
      "100%|██████████| 10000/10000 [06:35<00:00, 20.37it/s]\n"
     ]
    },
    {
     "name": "stdout",
     "output_type": "stream",
     "text": [
      "Insertion of 2000000 samples: 2.9404338219974306\n",
      "Insertion of 10000 samples: 0.015332600996771362\n"
     ]
    }
   ],
   "source": [
    "memory = ReplayBuffer5(replay_buffer_size)\n",
    "test_insertion_tqdm(memory, nb_samples)\n",
    "test_sampling_tqdm(memory, nb_batches)\n",
    "test_insertion_timeit(memory, nb_samples)\n",
    "test_insertion_timeit(memory, nb_batches)"
   ]
  },
  {
   "cell_type": "code",
   "execution_count": 15,
   "metadata": {},
   "outputs": [
    {
     "name": "stderr",
     "output_type": "stream",
     "text": [
      "100%|██████████| 2000000/2000000 [00:01<00:00, 1263080.74it/s]\n",
      "100%|██████████| 10000/10000 [00:17<00:00, 558.04it/s]\n"
     ]
    },
    {
     "name": "stdout",
     "output_type": "stream",
     "text": [
      "Insertion of 2000000 samples: 0.8201194959983695\n",
      "Insertion of 10000 samples: 0.003932675994292367\n"
     ]
    }
   ],
   "source": [
    "memory = ReplayBuffer6(replay_buffer_size)\n",
    "test_insertion_tqdm(memory, nb_samples)\n",
    "test_sampling_tqdm(memory, nb_batches)\n",
    "test_insertion_timeit(memory, nb_samples)\n",
    "test_insertion_timeit(memory, nb_batches)"
   ]
  },
  {
   "cell_type": "code",
   "execution_count": 16,
   "metadata": {},
   "outputs": [
    {
     "name": "stderr",
     "output_type": "stream",
     "text": [
      "100%|██████████| 2000000/2000000 [00:03<00:00, 567402.35it/s]\n",
      "100%|██████████| 10000/10000 [00:18<00:00, 532.41it/s]\n"
     ]
    },
    {
     "name": "stdout",
     "output_type": "stream",
     "text": [
      "Insertion of 2000000 samples: 2.276516903999436\n",
      "Insertion of 10000 samples: 0.010986962995957583\n"
     ]
    }
   ],
   "source": [
    "memory = ReplayBuffer7(replay_buffer_size)\n",
    "test_insertion_tqdm(memory, nb_samples)\n",
    "test_sampling_tqdm(memory, nb_batches)\n",
    "test_insertion_timeit(memory, nb_samples)\n",
    "test_insertion_timeit(memory, nb_batches)"
   ]
  },
  {
   "cell_type": "code",
   "execution_count": 17,
   "metadata": {},
   "outputs": [
    {
     "name": "stderr",
     "output_type": "stream",
     "text": [
      "100%|██████████| 2000000/2000000 [00:01<00:00, 1272797.21it/s]\n",
      "100%|██████████| 10000/10000 [00:21<00:00, 528.04it/s]\n"
     ]
    },
    {
     "name": "stdout",
     "output_type": "stream",
     "text": [
      "Insertion of 2000000 samples: 0.7693597639954532\n",
      "Insertion of 10000 samples: 0.0036959179997211322\n"
     ]
    }
   ],
   "source": [
    "memory = ReplayBuffer8(replay_buffer_size)\n",
    "test_insertion_tqdm(memory, nb_samples)\n",
    "test_sampling_tqdm(memory, nb_batches)\n",
    "test_insertion_timeit(memory, nb_samples)\n",
    "test_insertion_timeit(memory, nb_batches)"
   ]
  },
  {
   "cell_type": "code",
   "execution_count": null,
   "metadata": {},
   "outputs": [],
   "source": []
  }
 ],
 "metadata": {
  "kernelspec": {
   "display_name": "Python 3",
   "language": "python",
   "name": "python3"
  },
  "language_info": {
   "codemirror_mode": {
    "name": "ipython",
    "version": 3
   },
   "file_extension": ".py",
   "mimetype": "text/x-python",
   "name": "python",
   "nbconvert_exporter": "python",
   "pygments_lexer": "ipython3",
   "version": "3.6.8"
  }
 },
 "nbformat": 4,
 "nbformat_minor": 2
}
